{
  "nbformat": 4,
  "nbformat_minor": 0,
  "metadata": {
    "colab": {
      "provenance": []
    },
    "kernelspec": {
      "name": "python3",
      "display_name": "Python 3"
    },
    "language_info": {
      "name": "python"
    }
  },
  "cells": [
    {
      "cell_type": "code",
      "source": [
        "import numpy as np\n",
        "import matplotlib.pyplot as plt\n"
      ],
      "metadata": {
        "id": "Cfqyb2SDMyH6"
      },
      "execution_count": 1,
      "outputs": []
    },
    {
      "cell_type": "code",
      "source": [
        "#f(x) = exp(-sin(x^2)/2) + x\n",
        "def f(x):\n",
        "    return np.exp(-np.sin(x**2)/2) + x\n"
      ],
      "metadata": {
        "id": "FonLzAQceJRa"
      },
      "execution_count": 2,
      "outputs": []
    },
    {
      "cell_type": "code",
      "source": [
        "#25 datapoints between -10 and 10\n",
        "x_all = np.linspace(-10, 10, 25)\n",
        "y_all = f(x_all)\n",
        "\n",
        "# split into train 20 and test 5\n",
        "idx = np.arange(len(x_all))\n",
        "np.random.shuffle(idx)\n",
        "train_idx, test_idx = idx[:20], idx[20:]\n",
        "\n",
        "x_train, y_train = x_all[train_idx], y_all[train_idx]\n",
        "x_test, y_test = x_all[test_idx], y_all[test_idx]\n"
      ],
      "metadata": {
        "id": "DsrZ2v_cePxb"
      },
      "execution_count": 3,
      "outputs": []
    },
    {
      "cell_type": "code",
      "source": [
        "#tanh\n",
        "def g(z):\n",
        "    return np.tanh(z)\n",
        "\n",
        "def g_der(z):\n",
        "    return 1 - np.tanh(z)**2\n"
      ],
      "metadata": {
        "id": "LlMB5FMGeS5x"
      },
      "execution_count": 4,
      "outputs": []
    },
    {
      "cell_type": "code",
      "source": [
        "# # Relu\n",
        "# def g(x):\n",
        "#     return np.maximum(0, x)\n",
        "\n",
        "# def g_der(x):\n",
        "#     return (x > 0).astype(float)\n"
      ],
      "metadata": {
        "id": "B3n9eKNhiYFu"
      },
      "execution_count": 5,
      "outputs": []
    },
    {
      "cell_type": "code",
      "source": [
        "#take random weights and bias\n",
        "rng = np.random.default_rng(42)\n",
        "w1, b1 = rng.normal(), rng.normal()\n",
        "w2, b2 = rng.normal(), rng.normal()\n",
        "w3, b3 = rng.normal(), rng.normal()\n"
      ],
      "metadata": {
        "id": "6P0e-supeWWE"
      },
      "execution_count": 6,
      "outputs": []
    },
    {
      "cell_type": "code",
      "source": [
        "# learning rate\n",
        "lr = 0.01\n",
        "epochs = 10000\n",
        "m = len(x_train)\n"
      ],
      "metadata": {
        "id": "rLoDFE3Fea3N"
      },
      "execution_count": 7,
      "outputs": []
    },
    {
      "cell_type": "code",
      "source": [
        "for epoch in range(epochs):\n",
        "    dw1 = db1 = dw2 = db2 = dw3 = db3 = 0\n",
        "    loss = 0\n",
        "\n",
        "    for xi, yi in zip(x_train, y_train):\n",
        "        # forward\n",
        "        z1 = w1*xi + b1\n",
        "        a1 = g(z1)\n",
        "        z2 = w2*a1 + b2\n",
        "        a2 = g(z2)\n",
        "        z3 = w3*a2 + b3\n",
        "        y_hat = g(z3)\n",
        "\n",
        "        # loss\n",
        "        loss += (y_hat - yi)**2\n",
        "\n",
        "        # backward\n",
        "        dL_dyhat = 2*(y_hat - yi)\n",
        "\n",
        "        dz3 = dL_dyhat * g_der(z3)\n",
        "        dw3 += dz3 * a2\n",
        "        db3 += dz3\n",
        "\n",
        "        dz2 = dz3 * w3 * g_der(z2)\n",
        "        dw2 += dz2 * a1\n",
        "        db2 += dz2\n",
        "\n",
        "        dz1 = dz2 * w2 * g_der(z1)\n",
        "        dw1 += dz1 * xi\n",
        "        db1 += dz1\n",
        "\n",
        "    # average\n",
        "    dw1 /= m; db1 /= m\n",
        "    dw2 /= m; db2 /= m\n",
        "    dw3 /= m; db3 /= m\n",
        "\n",
        "    # update\n",
        "    w1 -= lr*dw1; b1 -= lr*db1\n",
        "    w2 -= lr*dw2; b2 -= lr*db2\n",
        "    w3 -= lr*dw3; b3 -= lr*db3\n",
        "\n",
        "    if epoch % 1000 == 0:\n",
        "        print(\"epoch:\", epoch, \" loss:\", loss/m)\n"
      ],
      "metadata": {
        "colab": {
          "base_uri": "https://localhost:8080/"
        },
        "id": "Pjiq0P4FeeeZ",
        "outputId": "b6c57bf3-23cb-4645-9112-c7295e63f4ea"
      },
      "execution_count": 8,
      "outputs": [
        {
          "output_type": "stream",
          "name": "stdout",
          "text": [
            "epoch: 0  loss: 42.307765685231416\n",
            "epoch: 1000  loss: 28.501216700595943\n",
            "epoch: 2000  loss: 28.485788884760048\n",
            "epoch: 3000  loss: 28.48114052870816\n",
            "epoch: 4000  loss: 28.478888964526373\n",
            "epoch: 5000  loss: 28.47755961961\n",
            "epoch: 6000  loss: 28.47668211044583\n",
            "epoch: 7000  loss: 28.476059527840782\n",
            "epoch: 8000  loss: 28.475594878199463\n",
            "epoch: 9000  loss: 28.47523483670967\n"
          ]
        }
      ]
    },
    {
      "cell_type": "code",
      "source": [
        "def predict(x):\n",
        "    z1 = w1*x + b1\n",
        "    a1 = g(z1)\n",
        "    z2 = w2*a1 + b2\n",
        "    a2 = g(z2)\n",
        "    z3 = w3*a2 + b3\n",
        "    return g(z3)\n"
      ],
      "metadata": {
        "id": "xU9GZ36nepIi"
      },
      "execution_count": 9,
      "outputs": []
    },
    {
      "cell_type": "code",
      "source": [
        "y_pred_train = np.array([predict(xi) for xi in x_train])\n",
        "y_pred_test = np.array([predict(xi) for xi in x_test])\n",
        "y_pred_all = np.array([predict(xi) for xi in x_all])\n"
      ],
      "metadata": {
        "id": "WiSgfGdvesUk"
      },
      "execution_count": 10,
      "outputs": []
    },
    {
      "cell_type": "code",
      "source": [
        "plt.figure(figsize=(8,5))\n",
        "plt.scatter(x_train, y_train, label=\"Train Data\", color=\"green\")\n",
        "plt.scatter(x_test, y_test, label=\"Test Data\", color=\"blue\")\n",
        "plt.plot(x_all, y_all, label=\"True f(x)\", color=\"red\")\n",
        "plt.plot(x_all, y_pred_all, label=\"NN Prediction\", color=\"purple\")\n",
        "plt.legend()\n",
        "plt.title(\"True vs Predicted Function\")\n",
        "plt.show()\n"
      ],
      "metadata": {
        "colab": {
          "base_uri": "https://localhost:8080/",
          "height": 468
        },
        "id": "PRO7czzDevwq",
        "outputId": "e1bbeb44-0cef-4415-ae5e-e68e04b3de19"
      },
      "execution_count": 11,
      "outputs": [
        {
          "output_type": "display_data",
          "data": {
            "text/plain": [
              "<Figure size 800x500 with 1 Axes>"
            ],
            "image/png": "[encoded data removed]"
          },
          "metadata": {}
        }
      ]
    },
    {
      "cell_type": "code",
      "source": [
        "train_err = np.mean((y_pred_train - y_train)**2)\n",
        "test_err = np.mean((y_pred_test - y_test)**2)\n",
        "\n",
        "print(\"Training MSE:\", train_err)\n",
        "print(\"Test MSE:\", test_err)\n"
      ],
      "metadata": {
        "colab": {
          "base_uri": "https://localhost:8080/"
        },
        "id": "ZCbkAoSjeyms",
        "outputId": "35cb1e6b-1805-430e-9f2f-3e8864683ace"
      },
      "execution_count": 12,
      "outputs": [
        {
          "output_type": "stream",
          "name": "stdout",
          "text": [
            "Training MSE: 28.47494765618324\n",
            "Test MSE: 25.255195300743452\n"
          ]
        }
      ]
    },
    {
      "cell_type": "code",
      "source": [
        "\n",
        "#Relu\n",
        "# Training MSE: 25.65795071346173\n",
        "# Test MSE: 36.285481093184"
      ],
      "metadata": {
        "id": "kWt8hHZxpPjQ"
      },
      "execution_count": 14,
      "outputs": []
    },
    {
      "cell_type": "code",
      "source": [],
      "metadata": {
        "id": "2oECugTOr0Qe"
      },
      "execution_count": 13,
      "outputs": []
    }
  ]
}